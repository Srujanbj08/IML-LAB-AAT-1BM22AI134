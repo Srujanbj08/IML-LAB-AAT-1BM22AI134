{
  "nbformat": 4,
  "nbformat_minor": 0,
  "metadata": {
    "colab": {
      "provenance": []
    },
    "kernelspec": {
      "name": "python3",
      "display_name": "Python 3"
    },
    "language_info": {
      "name": "python"
    }
  },
  "cells": [
    {
      "cell_type": "code",
      "execution_count": 3,
      "metadata": {
        "colab": {
          "base_uri": "https://localhost:8080/"
        },
        "id": "4ETDcveYpU3o",
        "outputId": "4074dcb7-6aed-4894-cea5-26d95d158cee"
      },
      "outputs": [
        {
          "output_type": "stream",
          "name": "stdout",
          "text": [
            "29/63\n"
          ]
        }
      ],
      "source": [
        "from math import gcd\n",
        "def probability_black_ball(W_A, B_A, W_B, B_B):\n",
        "    num1 = B_A * (B_B + 1)\n",
        "    den1 = (W_A + B_A) * (W_B + B_B + 1)\n",
        "    num2 = W_A * B_B\n",
        "    den2 = (W_A + B_A) * (W_B + B_B + 1)\n",
        "    num = num1 + num2\n",
        "    den = den1\n",
        "    divisor = gcd(num, den)\n",
        "    num //= divisor\n",
        "    den //= divisor\n",
        "    return f\"{num}/{den}\"\n",
        "W_A, B_A = 5,4\n",
        "W_B, B_B = 7,6\n",
        "result = probability_black_ball(W_A, B_A, W_B, B_B)\n",
        "print(result)\n"
      ]
    }
  ]
}