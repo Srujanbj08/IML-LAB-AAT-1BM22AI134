{
  "nbformat": 4,
  "nbformat_minor": 0,
  "metadata": {
    "colab": {
      "provenance": []
    },
    "kernelspec": {
      "name": "python3",
      "display_name": "Python 3"
    },
    "language_info": {
      "name": "python"
    }
  },
  "cells": [
    {
      "cell_type": "code",
      "execution_count": null,
      "metadata": {
        "id": "kfokUJIDqYoa"
      },
      "outputs": [],
      "source": [
        "import sys\n",
        "inp = int(float(sys.stdin.readline().strip()) * 100)\n",
        "if inp < 400:\n",
        "    print(f\"{inp * 2 / 100:.2f}\")\n",
        "else:\n",
        "    print(\"8.00\")"
      ]
    }
  ]
}