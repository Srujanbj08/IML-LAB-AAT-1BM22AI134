{
  "nbformat": 4,
  "nbformat_minor": 0,
  "metadata": {
    "colab": {
      "provenance": []
    },
    "kernelspec": {
      "name": "python3",
      "display_name": "Python 3"
    },
    "language_info": {
      "name": "python"
    }
  },
  "cells": [
    {
      "cell_type": "code",
      "source": [
        "import json\n",
        "import numpy as np\n",
        "from sklearn.linear_model import SGDClassifier\n",
        "from sklearn.feature_extraction.text import TfidfVectorizer\n",
        "with open('training.json', 'r') as f:\n",
        "    N = int(f.readline().strip())\n",
        "    y_train = []\n",
        "    train = []\n",
        "    topic_list = []\n",
        "    for line in f:\n",
        "        j = json.loads(line)\n",
        "        topic = j['topic']\n",
        "        if topic not in topic_list:\n",
        "            topic_list.append(topic)\n",
        "        topic_index = topic_list.index(topic)\n",
        "        y_train.append(topic_index)\n",
        "        train.append(j['question'] + ' ' + j['excerpt'])\n",
        "N_test = int(input().strip())\n",
        "test = []\n",
        "for _ in range(N_test):\n",
        "    j = json.loads(input().strip())\n",
        "    test.append(j['question'] + ' ' + j['excerpt'])\n",
        "vectorizer = TfidfVectorizer(sublinear_tf=True, analyzer='word', max_df=0.1, ngram_range=(1, 2), stop_words='english')\n",
        "X_train = vectorizer.fit_transform(train)\n",
        "X_test = vectorizer.transform(test)\n",
        "clf = SGDClassifier(loss='hinge', alpha=0.00002, max_iter=30, penalty='l2')\n",
        "clf.fit(X_train, y_train)\n",
        "predictions = clf.predict(X_test)\n",
        "for i in predictions:\n",
        "    print(topic_list[i])\n"
      ],
      "metadata": {
        "id": "AcL2Mgg8qMfG"
      },
      "execution_count": null,
      "outputs": []
    }
  ]
}