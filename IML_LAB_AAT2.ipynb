{
  "nbformat": 4,
  "nbformat_minor": 0,
  "metadata": {
    "colab": {
      "provenance": []
    },
    "kernelspec": {
      "name": "python3",
      "display_name": "Python 3"
    },
    "language_info": {
      "name": "python"
    }
  },
  "cells": [
    {
      "cell_type": "code",
      "execution_count": null,
      "metadata": {
        "id": "Ow9_PMLIqjH5"
      },
      "outputs": [],
      "source": [
        "def printTransactions(money, k, d, names, owned, prices):\n",
        "    res = []\n",
        "    for i in range(k):\n",
        "        name = names[i]\n",
        "        num_owned = owned[i]\n",
        "        price = prices[i]\n",
        "        price_change = (price[-1] - price[-2]) / price[-2]\n",
        "        if price_change > 0.0 and num_owned > 0:\n",
        "            res.append((name, 'SELL', str(num_owned)))\n",
        "        elif price_change < 0.0:\n",
        "            amount_to_buy = int(money / price[-1])\n",
        "            if amount_to_buy > 0:\n",
        "                res.append((name, 'BUY', str(amount_to_buy)))\n",
        "                money -= amount_to_buy * price[-1]\n",
        "    print(len(res))\n",
        "    for transaction in res:\n",
        "        print(' '.join(transaction))\n",
        "if __name__ == \"__main__\":\n",
        "    import sys\n",
        "    input = sys.stdin.read\n",
        "    data = input().strip().split('\\n')\n",
        "    m, k, d = map(float, data[0].split())\n",
        "    m = float(m)\n",
        "    k = int(k)\n",
        "    d = int(d)\n",
        "    names = []\n",
        "    owned = []\n",
        "    prices = []\n",
        "    for i in range(k):\n",
        "        line = data[i + 1].strip().split()\n",
        "        names.append(line[0])\n",
        "        owned.append(int(line[1]))\n",
        "        prices.append(list(map(float, line[2:])))\n",
        "    printTransactions(m, k, d, names, owned, prices)"
      ]
    }
  ]
}